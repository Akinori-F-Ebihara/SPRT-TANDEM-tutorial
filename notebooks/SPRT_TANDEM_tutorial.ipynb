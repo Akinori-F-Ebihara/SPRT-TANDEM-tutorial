{
 "cells": [
  {
   "cell_type": "markdown",
   "metadata": {},
   "source": [
    "MIT License\n",
    "\n",
    "Copyright (c) 2021 Taiki Miyagawa and Akinori F. Ebihara\n",
    "\n",
    "Permission is hereby granted, free of charge, to any person obtaining a copy\n",
    "of this software and associated documentation files (the \"Software\"), to deal\n",
    "in the Software without restriction, including without limitation the rights\n",
    "to use, copy, modify, merge, publish, distribute, sublicense, and/or sell\n",
    "copies of the Software, and to permit persons to whom the Software is\n",
    "furnished to do so, subject to the following conditions:\n",
    "\n",
    "The above copyright notice and this permission notice shall be included in all\n",
    "copies or substantial portions of the Software.\n",
    "\n",
    "THE SOFTWARE IS PROVIDED \"AS IS\", WITHOUT WARRANTY OF ANY KIND, EXPRESS OR\n",
    "IMPLIED, INCLUDING BUT NOT LIMITED TO THE WARRANTIES OF MERCHANTABILITY,\n",
    "FITNESS FOR A PARTICULAR PURPOSE AND NONINFRINGEMENT. IN NO EVENT SHALL THE\n",
    "AUTHORS OR COPYRIGHT HOLDERS BE LIABLE FOR ANY CLAIM, DAMAGES OR OTHER\n",
    "LIABILITY, WHETHER IN AN ACTION OF CONTRACT, TORT OR OTHERWISE, ARISING FROM,\n",
    "OUT OF OR IN CONNECTION WITH THE SOFTWARE OR THE USE OR OTHER DEALINGS IN THE\n",
    "SOFTWARE."
   ]
  },
  {
   "cell_type": "markdown",
   "metadata": {},
   "source": [
    "# SPRT-TANDEM tutorial\n",
    "- This notebook is supposed to be opened on Google Colab. For details, see the README of this repo.\n",
    "- GPU accelerator is required. From the \"Runtime\" tab on top of the notebook, choose \"Change runtime type\" to select a GPU.\n",
    "- First, let's upload the repo onto Colab:"
   ]
  },
  {
   "cell_type": "code",
   "execution_count": 1,
   "metadata": {},
   "outputs": [],
   "source": [
    "import sys, os\n",
    "import numpy as np\n",
    "import matplotlib.pyplot as plt\n",
    "import sqlite3\n",
    "from itertools import zip_longest\n",
    "\n",
    "!git clone https://github.com/Akinori-F-Ebihara/SPRT-TANDEM-tutorial\n",
    "os.chdir('./SPRT-TANDEM-tutorial')"
   ]
  },
  {
   "cell_type": "markdown",
   "metadata": {},
   "source": [
    "## Generate the Nosaic-MNIST database\n",
    "- The script ``make_nmnist.py`` will generate train and test Nosaic-MNIST databases.\n",
    "- Two files, ``./data-directory/nosaic_mnist_train.tfrecords`` and ``./data-directory/nosaic_mnist_test.tfrecords`` will be generated."
   ]
  },
  {
   "cell_type": "code",
   "execution_count": null,
   "metadata": {},
   "outputs": [],
   "source": [
    "!python make_nmnist_testonly.py"
   ]
  },
  {
   "cell_type": "markdown",
   "metadata": {},
   "source": [
    "## Visualize example sequential data\n",
    "- Choose one random test data to visualize\n",
    "- The shape of one data is _(duration, width, height, channel) = (20, 28, 28, 1)_"
   ]
  },
  {
   "cell_type": "code",
   "execution_count": null,
   "metadata": {},
   "outputs": [],
   "source": [
    "duration=20 # the length of sequential data\n",
    "\n",
    "import tensorflow as tf\n",
    "from datasets.data_processing import read_tfrecords_nosaic_mnist,\\\n",
    "    decode_nosaic_mnist, binarize_labels_nosaic_mnist,\\\n",
    "    normalize_images_nosaic_mnist, reshape_for_featext\n",
    "\n",
    "# Reed the test tfr\n",
    "def _parse_image_function(example_proto):\n",
    "        return tf.io.parse_single_example(example_proto, {\n",
    "                    'video': tf.io.FixedLenFeature([], tf.string),\n",
    "                    'label': tf.io.FixedLenFeature([],tf.int64)\n",
    "                    })\n",
    "\n",
    "record_file_test='./data-directory/nosaic_mnist_test.tfrecords'\n",
    "batch_size = 1\n",
    "\n",
    "raw_image_dataset_test = tf.data.TFRecordDataset(record_file_test)\n",
    "parsed_image_dataset_test = raw_image_dataset_test.map(_parse_image_function)\n",
    "parsed_image_dataset_test = parsed_image_dataset_test.batch(\n",
    "    batch_size, drop_remainder=True) ###\n",
    "    \n",
    "for iter_b, feats in enumerate(parsed_image_dataset_test):\n",
    "    x_batch, y_batch = decode_nosaic_mnist(feats, duration=duration)\n",
    "    if np.random.rand() > 0.5: break\n",
    "\n",
    "print('Shape of a data in NMNIST:', x_batch[0].shape)\n",
    "print('Digit label: ', y_batch.numpy())\n",
    "\n",
    "plt.figure(figsize = (16,8))\n",
    "for i in range(duration):\n",
    "  plt.subplot(4, 5, i+1)\n",
    "  plt.imshow(np.squeeze(x_batch[0, i]))\n",
    "  plt.xticks([])\n",
    "  plt.yticks([])\n",
    "  plt.title(i)"
   ]
  },
  {
   "cell_type": "code",
   "execution_count": null,
   "metadata": {},
   "outputs": [],
   "source": [
    "!pip install tensorflow-addons\n",
    "!pip install optuna"
   ]
  },
  {
   "cell_type": "code",
   "execution_count": null,
   "metadata": {},
   "outputs": [],
   "source": [
    "!python train_fe_nmnist.py"
   ]
  },
  {
   "cell_type": "code",
   "execution_count": null,
   "metadata": {},
   "outputs": [],
   "source": []
  },
  {
   "cell_type": "markdown",
   "metadata": {},
   "source": [
    "## Load the pretrained model"
   ]
  },
  {
   "cell_type": "code",
   "execution_count": null,
   "metadata": {},
   "outputs": [],
   "source": []
  },
  {
   "cell_type": "markdown",
   "metadata": {},
   "source": [
    "## Estimate log-likelihood ratio (LLR) and plot the LLR trajectory"
   ]
  },
  {
   "cell_type": "code",
   "execution_count": null,
   "metadata": {},
   "outputs": [],
   "source": []
  },
  {
   "cell_type": "markdown",
   "metadata": {},
   "source": [
    "## Plot the speed-accuracy tradeoff (SAT) curve"
   ]
  },
  {
   "cell_type": "code",
   "execution_count": null,
   "metadata": {},
   "outputs": [],
   "source": []
  },
  {
   "cell_type": "code",
   "execution_count": null,
   "metadata": {},
   "outputs": [],
   "source": []
  }
 ],
 "metadata": {
  "kernelspec": {
   "display_name": "Python 3",
   "language": "python",
   "name": "python3"
  },
  "language_info": {
   "codemirror_mode": {
    "name": "ipython",
    "version": 3
   },
   "file_extension": ".py",
   "mimetype": "text/x-python",
   "name": "python",
   "nbconvert_exporter": "python",
   "pygments_lexer": "ipython3",
   "version": "3.5.2"
  }
 },
 "nbformat": 4,
 "nbformat_minor": 2
}
