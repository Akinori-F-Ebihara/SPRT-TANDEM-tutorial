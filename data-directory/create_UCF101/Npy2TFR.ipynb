{
 "cells": [
  {
   "cell_type": "markdown",
   "metadata": {},
   "source": [
    "MIT License\n",
    "\n",
    "Copyright (c) 2021 Taiki Miyagawa and Akinori F. Ebihara\n",
    "\n",
    "Permission is hereby granted, free of charge, to any person obtaining a copy\n",
    "of this software and associated documentation files (the \"Software\"), to deal\n",
    "in the Software without restriction, including without limitation the rights\n",
    "to use, copy, modify, merge, publish, distribute, sublicense, and/or sell\n",
    "copies of the Software, and to permit persons to whom the Software is\n",
    "furnished to do so, subject to the following conditions:\n",
    "\n",
    "The above copyright notice and this permission notice shall be included in all\n",
    "copies or substantial portions of the Software.\n",
    "\n",
    "THE SOFTWARE IS PROVIDED \"AS IS\", WITHOUT WARRANTY OF ANY KIND, EXPRESS OR\n",
    "IMPLIED, INCLUDING BUT NOT LIMITED TO THE WARRANTIES OF MERCHANTABILITY,\n",
    "FITNESS FOR A PARTICULAR PURPOSE AND NONINFRINGEMENT. IN NO EVENT SHALL THE\n",
    "AUTHORS OR COPYRIGHT HOLDERS BE LIABLE FOR ANY CLAIM, DAMAGES OR OTHER\n",
    "LIABILITY, WHETHER IN AN ACTION OF CONTRACT, TORT OR OTHERWISE, ARISING FROM,\n",
    "OUT OF OR IN CONNECTION WITH THE SOFTWARE OR THE USE OR OTHER DEALINGS IN THE\n",
    "SOFTWARE."
   ]
  },
  {
   "cell_type": "markdown",
   "metadata": {},
   "source": [
    "# Convert and Aggregate Npy Files into a TFRecords File\n",
    "DATADIR/UCF101TFR[duration]-[240-320 or 256-256]/ will be made.\n",
    "\n",
    "### Result (trimmed):\n",
    "```\n",
    "UCF101TFR-50-240-320:\n",
    "train01.tfrecords :35996 clips\n",
    "valid01.tfrecords : 4454 clips\n",
    "test01.tfrecords  :15807 clips\n",
    "\n",
    "UCF101TFR-50-256-256:\n",
    "train01.tfrecords :35996 clips\n",
    "valid01.tfrecords : 4454 clips\n",
    "test01.tfrecords  :15807 clips\n",
    "\n",
    "UCF101TFR-150-240-320:\n",
    "train01.tfrecords :14467 clips\n",
    "valid01.tfrecords : 1775 clips\n",
    "test01.tfrecords  : 6337 clips\n",
    "\n",
    "UCF101TFR-150-256-256:\n",
    "train01.tfrecords :14467 clips\n",
    "valid01.tfrecords : 1775 clips\n",
    "test01.tfrecords  : 6337 clips\n",
    "```"
   ]
  },
  {
   "cell_type": "code",
   "execution_count": null,
   "metadata": {},
   "outputs": [],
   "source": [
    "import os, shutil, sys\n",
    "from glob import glob\n",
    "import numpy as np\n",
    "import tensorflow as tf"
   ]
  },
  {
   "cell_type": "code",
   "execution_count": null,
   "metadata": {},
   "outputs": [],
   "source": [
    "# User-defined\n",
    "DATADIR = \"Define this first. E.g., /data/t-miyagawa\"\n",
    "\n",
    "gpu = 7 # which GPU to be used\n",
    "splitnum = 1 # Official split num. 1, 2, or 3.\n",
    "duration = 150 # 50 or 150.\n",
    "target_imshape = 256 # None or 256.\n",
    "tvt = [\"train\", \"valid\", \"test\"][0] # [0], [1], [2]"
   ]
  },
  {
   "cell_type": "code",
   "execution_count": 1,
   "metadata": {},
   "outputs": [],
   "source": [
    "# Utility functions\n",
    "def set_gpu_devices(gpu):\n",
    "    physical_devices = tf.config.experimental.list_physical_devices('GPU')\n",
    "    assert len(physical_devices) > 0, \"Not enough GPU hardware devices available\"\n",
    "    tf.config.experimental.set_visible_devices(physical_devices[gpu], 'GPU')\n",
    "    tf.config.experimental.set_memory_growth(physical_devices[gpu], True)\n",
    "    \n",
    "def np_to_tfr_UCF101(x, y, writer):\n",
    "    \"\"\"Save a np.array to a tfrecord file. DO NOT FORGET writer.close().\n",
    "    Args:\n",
    "        x: data: np.ndarray, dtype=np.float32. shape=(duration, feat dim)\n",
    "        y: label: int, dtype=np.int64\n",
    "        writer: tf.io.TFRecordWriter object. Don't forget writer.close()\n",
    "    \"\"\"\n",
    "    def _bytes_feature(value):\n",
    "        return tf.train.Feature(bytes_list=tf.train.BytesList(value=[value]))\n",
    "    def _int64_feature(value):\n",
    "        return tf.train.Feature(int64_list=tf.train.Int64List(value=[value]))\n",
    "    def _float_feature(value):\n",
    "        return tf.train.Feature(float_list=tf.train.FloatList(value=[value]))\n",
    "\n",
    "    # Make an Example object that has one record data\n",
    "    example = tf.train.Example(features=tf.train.Features(feature={\n",
    "        'video': _bytes_feature(x.tostring()),\n",
    "        'label': _int64_feature(y)\n",
    "        }))\n",
    "\n",
    "    # Serialize the example object and make a TFRecord file\n",
    "    writer.write(example.SerializeToString())\n",
    "    \n",
    "def fix_random_seed(flag_seed, seed=None):\n",
    "    if flag_seed:\n",
    "        np.random.seed(seed)\n",
    "        tf.random.set_seed(seed)\n",
    "        print(\"Numpy and TensorFlow's random seeds fixed: seed=\" + str(seed))\n",
    "    \n",
    "    else:\n",
    "        print(\"Random seed not fixed.\")"
   ]
  },
  {
   "cell_type": "code",
   "execution_count": 11,
   "metadata": {},
   "outputs": [
    {
     "name": "stdout",
     "output_type": "stream",
     "text": [
      "The new TFRecords file name: /data/t-miyagawa/UCF101TFR-150-256-256/train01.tfrecords\n",
      "Num of clips: 14467\n"
     ]
    }
   ],
   "source": [
    "# Get npy paths\n",
    "ims = \"256-256\" if target_imshape == 256 else \"240-320\"\n",
    "allpaths = sorted(glob(\"{}/UCF101-{}-{}/{}0{}/*/*.npy\".format(DATADIR, duration, ims, tvt, splitnum)))\n",
    "newdir = \"{}/UCF101TFR-{}-{}\".format(DATADIR, duration, ims)\n",
    "record_file = newdir + \"/{}0{}.tfrecords\".format(tvt, splitnum)\n",
    "\n",
    "# Get class names in ascending order\n",
    "classdirs = sorted(glob(\"{}/UCF101-50-240-320/train01/*\".format(DATADIR)))\n",
    "classnames = [i[i.rfind(\"train01/\") + 8 :] for i in classdirs] # len = num classes\n",
    "\n",
    "# GPU\n",
    "set_gpu_devices(gpu)\n",
    "\n",
    "# Checks\n",
    "print(\"The new TFRecords file name: {}\".format(record_file))\n",
    "if len(allpaths) == 0:\n",
    "    raise ValueError(\"Any npy file does not exist. See 'allpaths'.\")\n",
    "    \n",
    "if not os.path.exists(newdir):\n",
    "    os.makedirs(newdir)\n",
    "    print(\"Created a directory: {}\".format(newdir))\n",
    "print(\"Num of clips: {}\".format(len(allpaths)))"
   ]
  },
  {
   "cell_type": "code",
   "execution_count": 3,
   "metadata": {
    "scrolled": false
   },
   "outputs": [
    {
     "name": "stdout",
     "output_type": "stream",
     "text": [
      "Numpy and TensorFlow's random seeds fixed: seed=7\n",
      "Shuffle done.\n",
      "Iter 2000/6337: /data/t-miyagawa/UCF101-150-256-256/test01/BrushingTeeth/v_BrushingTeeth_g02_c07_cc03.npy\n",
      "Label: 19, Class: BrushingTeeth\n",
      "Iter 4000/6337: /data/t-miyagawa/UCF101-150-256-256/test01/SkateBoarding/v_SkateBoarding_g02_c01_cc01.npy\n",
      "Label: 79, Class: SkateBoarding\n",
      "Iter 6000/6337: /data/t-miyagawa/UCF101-150-256-256/test01/MoppingFloor/v_MoppingFloor_g07_c01_cc02.npy\n",
      "Label: 54, Class: MoppingFloor\n",
      "All saves done.\n"
     ]
    }
   ],
   "source": [
    "# Save a TFRecord file\n",
    "#############################################\n",
    "if os.path.exists(record_file):\n",
    "    raise ValueError(\"record_file exists. Remove or rename it: {}\".format(record_file))\n",
    "    \n",
    "# Fix seed and shuffle data\n",
    "fix_random_seed(True, 7)\n",
    "shuffler = np.random.permutation(len(allpaths))\n",
    "print(\"Shuffle done.\")\n",
    "\n",
    "# Save loop\n",
    "with tf.io.TFRecordWriter(record_file) as writer:\n",
    "    for cnt, idx in enumerate(shuffler):\n",
    "        npy = allpaths[idx]\n",
    "        label = [i for i, v in enumerate(classnames) if \"/\"+ v +\"/\" in npy]\n",
    "        assert len(label) == 1\n",
    "\n",
    "        data = np.float32(np.load(npy)) # <== That's it!\n",
    "        label = np.int64(label[0])      # <== That's it!\n",
    "        np_to_tfr_UCF101(data, label, writer) \n",
    "        \n",
    "        # Verbose\n",
    "        if (cnt + 1) % 2000 == 0:\n",
    "            print(\"Iter {}/{}: {}\".format(cnt + 1, len(allpaths), npy))\n",
    "            print(\"Label: {}, Class: {}\".format(label, classnames[label]))\n",
    "print(\"All saves done.\")"
   ]
  }
 ],
 "metadata": {
  "kernelspec": {
   "display_name": "Python 3",
   "language": "python",
   "name": "python3"
  },
  "language_info": {
   "codemirror_mode": {
    "name": "ipython",
    "version": 3
   },
   "file_extension": ".py",
   "mimetype": "text/x-python",
   "name": "python",
   "nbconvert_exporter": "python",
   "pygments_lexer": "ipython3",
   "version": "3.5.2"
  }
 },
 "nbformat": 4,
 "nbformat_minor": 2
}
