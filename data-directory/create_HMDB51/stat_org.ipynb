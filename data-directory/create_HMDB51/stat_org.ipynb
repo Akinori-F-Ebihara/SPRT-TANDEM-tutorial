{
 "cells": [
  {
   "cell_type": "markdown",
   "metadata": {},
   "source": [
    "MIT License\n",
    "\n",
    "Copyright (c) 2021 Taiki Miyagawa and Akinori F. Ebihara\n",
    "\n",
    "Permission is hereby granted, free of charge, to any person obtaining a copy\n",
    "of this software and associated documentation files (the \"Software\"), to deal\n",
    "in the Software without restriction, including without limitation the rights\n",
    "to use, copy, modify, merge, publish, distribute, sublicense, and/or sell\n",
    "copies of the Software, and to permit persons to whom the Software is\n",
    "furnished to do so, subject to the following conditions:\n",
    "\n",
    "The above copyright notice and this permission notice shall be included in all\n",
    "copies or substantial portions of the Software.\n",
    "\n",
    "THE SOFTWARE IS PROVIDED \"AS IS\", WITHOUT WARRANTY OF ANY KIND, EXPRESS OR\n",
    "IMPLIED, INCLUDING BUT NOT LIMITED TO THE WARRANTIES OF MERCHANTABILITY,\n",
    "FITNESS FOR A PARTICULAR PURPOSE AND NONINFRINGEMENT. IN NO EVENT SHALL THE\n",
    "AUTHORS OR COPYRIGHT HOLDERS BE LIABLE FOR ANY CLAIM, DAMAGES OR OTHER\n",
    "LIABILITY, WHETHER IN AN ACTION OF CONTRACT, TORT OR OTHERWISE, ARISING FROM,\n",
    "OUT OF OR IN CONNECTION WITH THE SOFTWARE OR THE USE OR OTHER DEALINGS IN THE\n",
    "SOFTWARE."
   ]
  },
  {
   "attachments": {
    "image-2.png": {
     "image/png": "[encoded data removed]"
    }
   },
   "cell_type": "markdown",
   "metadata": {},
   "source": [
    "# HMDB51 Statistics\n",
    "* Num of total videos: 6766\n",
    "* Num of total frames: 632665\n",
    "* Max num of frames in a video: 1062\n",
    "* Min num of frames in a video: 18\n",
    "* Long videos (descending order):\n",
    "\n",
    "['/data/t-miyagawa/HMDB51png/pour/How_to_pour_beer_pour_u_nm_np1_fr_goo_0'\n",
    "\n",
    "'/data/t-miyagawa/HMDB51png/pour/How_to_pour_beer__eh__pour_u_nm_np1_fr_goo_0'\n",
    "\n",
    "'/data/t-miyagawa/HMDB51png/talk/jonhs_netfreemovies_holygrail_talk_h_nm_np1_fr_med_6'\n",
    "\n",
    "'/data/t-miyagawa/HMDB51png/throw/baseballpitchslowmotion_throw_f_nm_np1_fr_med_0'\n",
    "\n",
    "'/data/t-miyagawa/HMDB51png/climb/Bristol_UCR_roof_climb_climb_f_cm_np1_ba_bad_0']\n",
    "\n",
    "Num of frames: [1062, 1062, 846, 741, 728]\n",
    "\n",
    "* Short videos (ascending order):\n",
    "\n",
    "['/data/t-miyagawa/HMDB51png/somersault/LONGESTYARD_somersault_f_cm_np1_le_bad_27'\n",
    "\n",
    "'/data/t-miyagawa/HMDB51png/drink/BLACK_HAWK_DOWN_drink_h_nm_np1_fr_bad_36'\n",
    "\n",
    "'/data/t-miyagawa/HMDB51png/run/likebeckam_run_f_cm_np1_le_med_3'\n",
    "\n",
    "'/data/t-miyagawa/HMDB51png/run/likebeckam_run_f_cm_np1_ri_med_1'\n",
    "\n",
    "'/data/t-miyagawa/HMDB51png/run/BLACK_HAWK_DOWN_run_l_nm_np1_ba_med_16']\n",
    "\n",
    "Num of frames: [18, 21, 21, 21, 21]\n",
    "\n",
    "![image-2.png](attachment:image-2.png)"
   ]
  },
  {
   "cell_type": "markdown",
   "metadata": {},
   "source": [
    "### Naming Rules of Label Texts\n",
    "<font color=red>`glob` does not work for \"[\" or \"]\". Use \"[[]\" and \"[]]\" instead. \n",
    "    `path.replace(\"[\", \"[[\").replace(\"]\", \"[]]\").replace(\"[[\", \"[[]\")` does a good job.</font>\n",
    "\n",
    "```\n",
    "#####################################\n",
    "## Naming rules in label text file ##\n",
    "#####################################\n",
    "There are totally 153 files in this folder,\n",
    "[action]_test_split[1-3].txt  corresponding to three splits reported in the paper.\n",
    "The format of each file is\n",
    "[video_name] [id]\n",
    "The video is included in the training set if id is 1\n",
    "The video is included in the testing set if id is 2\n",
    "The video is not included for training/testing if id is 0\n",
    "There should be 70 videos with id 1 , 30 videos with id 2 in each txt file.\n",
    "\n",
    "PROPERTY                                   LABELS (ABBREVIATION)\n",
    "visible body parts                         head(h), upper body(u), full body (f), lower body(l)\n",
    "camera motion                              motion (cm), static (nm)\n",
    "number of people involved in the action    Single (np1), two (np2), three (np3)\n",
    "camera viewpoint                           Front (fr), back (ba), left(le), right(ri)\n",
    "video quality                              good (goo), medium (med), ok (bad)\n",
    "\n",
    "\n",
    "####################################\n",
    "#########    Templates   ###########\n",
    "####################################\n",
    "label file names:\n",
    "ClassName_test_split[1-3].txt\n",
    "\n",
    "video names:\n",
    "VideoName_ClassName_VisibleBodyParts_CameraMotion_NumberOfPeopleInvolvedInTheAction_CameraViewpoint_VideoQuality_Number\\\n",
    ".avi ID\n",
    "\n",
    "\n",
    "####################################\n",
    "#### Examples in class \"smile\" #####\n",
    "####################################\n",
    "my_smile_smile_h_cm_np1_fr_goo_0.avi 1\n",
    "prelinger_LetsPlay1949_smile_h_nm_np1_fr_goo_27.avi 2\n",
    "prelinger_LetsPlay1949_smile_h_nm_np1_le_goo_25.avi 2\n",
    "prelinger_LetsPlay1949_smile_u_nm_np1_fr_med_24.avi 0\n",
    "prelinger_LetsPlay1949_smile_u_nm_np1_ri_med_21.avi 2\n",
    "prelinger_they_grow_up_so_fast_1_smile_u_nm_np1_fr_med_0.avi 1\n",
    "show_your_smile_-)_smile_h_nm_np1_fr_med_0.avi 1\n",
    "showyoursmile_smile_h_nm_np1_fr_goo_0.avi 1\n",
    "smile_collection_7_smile_h_nm_np1_fr_goo_0.avi 1\n",
    "smile_collection_7_smile_h_nm_np1_fr_goo_1.avi 1\n",
    "youtube_smile_response_smile_h_nm_np1_fr_goo_0.avi 1\n",
    "```"
   ]
  },
  {
   "cell_type": "markdown",
   "metadata": {},
   "source": [
    "## Get statistical information"
   ]
  },
  {
   "cell_type": "code",
   "execution_count": 1,
   "metadata": {},
   "outputs": [],
   "source": [
    "from glob import glob\n",
    "import os\n",
    "import statistics\n",
    "import matplotlib.pyplot as plt\n",
    "import numpy as np"
   ]
  },
  {
   "cell_type": "code",
   "execution_count": null,
   "metadata": {},
   "outputs": [],
   "source": [
    "DATADIR = \"Define this first. E.g., /data/t-miyagawa\""
   ]
  },
  {
   "cell_type": "code",
   "execution_count": 78,
   "metadata": {},
   "outputs": [],
   "source": [
    "# Get videodir and numf\n",
    "datadir = \"{}/HMDB51png\".format(DATADIR)\n",
    "classdir = sorted(glob(datadir + \"/*\"))\n",
    "classdir = [i + \"/\" for i in classdir]\n",
    "classnames = [i[i.rfind(\"HMDB51png/\") + 10 : -1] for i in classdir]\n",
    "videodir = {\n",
    "    k : \n",
    "    sorted(glob([v for v in classdir if v.find(\"/\" + k + \"/\") != -1][0] + \"/*\"))\n",
    "    for k in classnames}\n",
    "\n",
    "numf = dict()\n",
    "for k in classnames:\n",
    "    v1 = videodir[k]\n",
    "    v2 = [i.replace(\"[\", \"[[\").replace(\"]\", \"[]]\").replace(\"[[\", \"[[]\") for i in v1]\n",
    "    numf[k] = [len(glob(_video + \"/*.png\")) for _video in v2]\n",
    "\n",
    "#videodir, numf # path to video directories, num of frames for each"
   ]
  },
  {
   "cell_type": "code",
   "execution_count": 79,
   "metadata": {},
   "outputs": [],
   "source": [
    "# Smear the keys\n",
    "numf_concat = []\n",
    "for k in classnames:\n",
    "    v = numf[k]\n",
    "    numf_concat.extend(v)\n",
    "\n",
    "videodir_concat = []\n",
    "for k in classnames:\n",
    "    v = videodir[k]\n",
    "    videodir_concat.extend(v)\n",
    "    \n",
    "# Classwise num of frames\n",
    "numf_classwise = []\n",
    "for k in classnames:\n",
    "    v = numf[k]\n",
    "    v = sum(v)\n",
    "    numf_classwise.append(v)\n",
    "    \n",
    "# Classwise num of videos (clips)\n",
    "numv_classwise = []\n",
    "for k in classnames:\n",
    "    v = videodir[k]\n",
    "    v = len(v)\n",
    "    numv_classwise.append(v)\n",
    "    \n",
    "# Classwise num of unique videos (groups)\n",
    "numuv_classwise = []\n",
    "for k in classnames:\n",
    "    v1 = videodir[k]\n",
    "        # ['DATADIR/HMDB51png/wave/20060723sfjffbartsinger_wave_f_cm_np1_ba_med_0',\n",
    "        #  'DATADIR/HMDB51png/wave/21_wave_u_nm_np1_fr_goo_5',\n",
    "        #  'DATADIR/HMDB51png/wave/50_FIRST_DATES_wave_f_cm_np1_fr_med_0',\n",
    "        #  'DATADIR/HMDB51png/wave/50_FIRST_DATES_wave_u_cm_np1_fr_goo_30',\n",
    "        #  'DATADIR/HMDB51png/wave/50_FIRST_DATES_wave_u_cm_np1_fr_med_1',\n",
    "        #  'DATADIR/HMDB51png/wave/50_FIRST_DATES_wave_u_cm_np1_fr_med_36',\n",
    "    v2 = [i[i.rfind(\"/\")+1:] for i in v1]\n",
    "        # ['20060723sfjffbartsinger_wave_f_cm_np1_ba_med_0',\n",
    "        #  '21_wave_u_nm_np1_fr_goo_5',\n",
    "        #  '50_FIRST_DATES_wave_f_cm_np1_fr_med_0',\n",
    "        #  '50_FIRST_DATES_wave_u_cm_np1_fr_goo_30',\n",
    "        #  '50_FIRST_DATES_wave_u_cm_np1_fr_med_1',\n",
    "        #  '50_FIRST_DATES_wave_u_cm_np1_fr_med_36',\n",
    "    v3 = [i[:i.rfind(k)-1] for i in v2]\n",
    "        # ['20060723sfjffbartsinger',\n",
    "        #  '21',\n",
    "        #  '50_FIRST_DATES',\n",
    "        #  '50_FIRST_DATES',\n",
    "        #  '50_FIRST_DATES',\n",
    "        #  '50_FIRST_DATES',\n",
    "    v4 = []\n",
    "    for i in v3:\n",
    "        if not i in v4:\n",
    "            v4.append(i)\n",
    "        # ['20060723sfjffbartsinger',\n",
    "        #  '21',\n",
    "        #  '50_FIRST_DATES',\n",
    "    numuv_classwise.append(len(v4))"
   ]
  },
  {
   "cell_type": "code",
   "execution_count": 46,
   "metadata": {},
   "outputs": [],
   "source": [
    "# Returns:\n",
    "#     classnames: List. Len = Num of classes. Names of classes in alphabetical order.\n",
    "#\n",
    "#     videodir: Dict. Paths to video directories. Each values (paths) are in alphabetical order of video names.\n",
    "#     numf: Dict. Num of frames for each videos. Each values (integers) are in alphabetical order of video names.\n",
    "#\n",
    "#     numf_concat: List. Len = Num of total videos. Order is the same as `videoddir_concat`.\n",
    "#     videodir_concat: List. Len = Num of total videos. Order is the same as `numf_concat`.\n",
    "#\n",
    "#     numf_classwise: List. Len = Num of classes. The classwise numbers of frames in alphabetical order of class names.\n",
    "#     numv_classwise: List. Len = Num of classes. The classwise numbers of videos (clips) in alphabetical order of class names.\n",
    "#     numuv_classwise: List. Len = Num of classes. The classwise numbers of unique videos (groups) in alphabetical order of class names."
   ]
  },
  {
   "cell_type": "markdown",
   "metadata": {},
   "source": [
    "## Statistics"
   ]
  },
  {
   "cell_type": "code",
   "execution_count": 81,
   "metadata": {
    "scrolled": true
   },
   "outputs": [
    {
     "name": "stdout",
     "output_type": "stream",
     "text": [
      "* Num of total videos: 6766\n",
      "* Num of total frames: 632665\n",
      "* Max num of frames in a video: 1062\n",
      "* Min num of frames in a video: 18\n",
      "* Long videos (descending order):\n",
      "['/data/t-miyagawa/HMDB51png/pour/How_to_pour_beer_pour_u_nm_np1_fr_goo_0'\n",
      " '/data/t-miyagawa/HMDB51png/pour/How_to_pour_beer__eh__pour_u_nm_np1_fr_goo_0'\n",
      " '/data/t-miyagawa/HMDB51png/talk/jonhs_netfreemovies_holygrail_talk_h_nm_np1_fr_med_6'\n",
      " '/data/t-miyagawa/HMDB51png/throw/baseballpitchslowmotion_throw_f_nm_np1_fr_med_0'\n",
      " '/data/t-miyagawa/HMDB51png/climb/Bristol_UCR_roof_climb_climb_f_cm_np1_ba_bad_0']\n",
      "Num of frames:\n",
      "[1062, 1062, 846, 741, 728]\n",
      "\n",
      "* Short videos (ascending order):\n",
      "['/data/t-miyagawa/HMDB51png/somersault/LONGESTYARD_somersault_f_cm_np1_le_bad_27'\n",
      " '/data/t-miyagawa/HMDB51png/drink/BLACK_HAWK_DOWN_drink_h_nm_np1_fr_bad_36'\n",
      " '/data/t-miyagawa/HMDB51png/run/likebeckam_run_f_cm_np1_le_med_3'\n",
      " '/data/t-miyagawa/HMDB51png/run/likebeckam_run_f_cm_np1_ri_med_1'\n",
      " '/data/t-miyagawa/HMDB51png/run/BLACK_HAWK_DOWN_run_l_nm_np1_ba_med_16']\n",
      "Num of frames:\n",
      "[18, 21, 21, 21, 21]\n"
     ]
    }
   ],
   "source": [
    "print(\"* Num of total videos: {}\".format(len(numf_concat)))\n",
    "print(\"* Num of total frames: {}\".format(sum(numf_concat)))\n",
    "print(\"* Max num of frames in a video: {}\".format(max(numf_concat)))\n",
    "print(\"* Min num of frames in a video: {}\".format(min(numf_concat)))\n",
    "\n",
    "_numshow = 5\n",
    "print(\"* Long videos (descending order):\\n{}\".format(np.array(videodir_concat)[np.argsort(numf_concat)[-_numshow:][::-1]]))\n",
    "print(\"Num of frames:\\n{}\".format(sorted(numf_concat)[-_numshow:][::-1]))\n",
    "print(\"\\n* Short videos (ascending order):\\n{}\".format(np.array(videodir_concat)[np.argsort(numf_concat)[:_numshow]]))\n",
    "print(\"Num of frames:\\n{}\".format(sorted(numf_concat)[:_numshow]))"
   ]
  },
  {
   "cell_type": "code",
   "execution_count": 84,
   "metadata": {
    "scrolled": true
   },
   "outputs": [
    {
     "data": {
      "text/plain": [
       "(array([3.000e+01, 2.600e+01, 1.370e+02, 1.740e+02, 3.330e+02, 5.550e+02,\n",
       "        4.380e+02, 1.690e+02, 1.500e+02, 2.020e+02, 2.840e+02, 1.755e+03,\n",
       "        3.460e+02, 2.060e+02, 1.530e+02, 1.440e+02, 1.900e+02, 1.890e+02,\n",
       "        1.050e+02, 7.300e+01, 8.500e+01, 7.500e+01, 8.800e+01, 7.400e+01,\n",
       "        4.300e+01, 3.400e+01, 5.400e+01, 3.700e+01, 5.500e+01, 2.900e+01,\n",
       "        2.300e+01, 2.600e+01, 1.900e+01, 2.700e+01, 2.500e+01, 2.600e+01,\n",
       "        1.800e+01, 1.700e+01, 1.300e+01, 2.000e+01, 2.000e+01, 1.300e+01,\n",
       "        1.500e+01, 1.200e+01, 7.000e+00, 1.700e+01, 2.100e+01, 1.200e+01,\n",
       "        4.000e+00, 1.400e+01, 9.000e+00, 7.000e+00, 1.300e+01, 4.000e+00,\n",
       "        6.000e+00, 9.000e+00, 8.000e+00, 4.000e+00, 5.000e+00, 7.000e+00,\n",
       "        7.000e+00, 6.000e+00, 3.000e+00, 1.200e+01, 3.000e+00, 5.000e+00,\n",
       "        3.000e+00, 3.000e+00, 6.000e+00, 4.000e+00, 1.000e+00, 2.000e+00,\n",
       "        3.000e+00, 1.000e+00, 5.000e+00, 2.000e+00, 2.000e+00, 2.000e+00,\n",
       "        2.000e+00, 1.000e+00, 2.000e+00, 1.000e+00, 1.000e+00, 2.000e+00,\n",
       "        1.000e+00, 2.000e+00, 2.000e+00, 1.000e+00, 0.000e+00, 2.000e+00,\n",
       "        2.000e+00, 0.000e+00, 2.000e+00, 0.000e+00, 0.000e+00, 1.000e+00,\n",
       "        1.000e+00, 1.000e+00, 3.000e+00, 0.000e+00, 2.000e+00, 0.000e+00,\n",
       "        0.000e+00, 0.000e+00, 0.000e+00, 0.000e+00, 0.000e+00, 0.000e+00,\n",
       "        0.000e+00, 1.000e+00, 0.000e+00, 0.000e+00, 0.000e+00, 0.000e+00,\n",
       "        1.000e+00, 0.000e+00, 2.000e+00, 0.000e+00, 0.000e+00, 0.000e+00,\n",
       "        2.000e+00, 0.000e+00, 0.000e+00, 0.000e+00, 0.000e+00, 0.000e+00,\n",
       "        0.000e+00, 0.000e+00, 0.000e+00, 0.000e+00, 0.000e+00, 2.000e+00,\n",
       "        0.000e+00, 0.000e+00, 0.000e+00, 0.000e+00, 1.000e+00, 0.000e+00,\n",
       "        1.000e+00, 0.000e+00, 0.000e+00, 0.000e+00, 0.000e+00, 0.000e+00,\n",
       "        0.000e+00, 0.000e+00, 0.000e+00, 0.000e+00, 0.000e+00, 0.000e+00,\n",
       "        0.000e+00, 0.000e+00, 0.000e+00, 0.000e+00, 0.000e+00, 0.000e+00,\n",
       "        0.000e+00, 0.000e+00, 1.000e+00, 0.000e+00, 0.000e+00, 0.000e+00,\n",
       "        0.000e+00, 0.000e+00, 0.000e+00, 0.000e+00, 0.000e+00, 0.000e+00,\n",
       "        0.000e+00, 0.000e+00, 0.000e+00, 0.000e+00, 0.000e+00, 0.000e+00,\n",
       "        0.000e+00, 0.000e+00, 0.000e+00, 0.000e+00, 0.000e+00, 0.000e+00,\n",
       "        0.000e+00, 0.000e+00, 0.000e+00, 0.000e+00, 0.000e+00, 0.000e+00,\n",
       "        0.000e+00, 0.000e+00, 0.000e+00, 0.000e+00, 0.000e+00, 0.000e+00,\n",
       "        0.000e+00, 0.000e+00, 0.000e+00, 0.000e+00, 0.000e+00, 0.000e+00,\n",
       "        0.000e+00, 2.000e+00]),\n",
       " array([  18.  ,   23.22,   28.44,   33.66,   38.88,   44.1 ,   49.32,\n",
       "          54.54,   59.76,   64.98,   70.2 ,   75.42,   80.64,   85.86,\n",
       "          91.08,   96.3 ,  101.52,  106.74,  111.96,  117.18,  122.4 ,\n",
       "         127.62,  132.84,  138.06,  143.28,  148.5 ,  153.72,  158.94,\n",
       "         164.16,  169.38,  174.6 ,  179.82,  185.04,  190.26,  195.48,\n",
       "         200.7 ,  205.92,  211.14,  216.36,  221.58,  226.8 ,  232.02,\n",
       "         237.24,  242.46,  247.68,  252.9 ,  258.12,  263.34,  268.56,\n",
       "         273.78,  279.  ,  284.22,  289.44,  294.66,  299.88,  305.1 ,\n",
       "         310.32,  315.54,  320.76,  325.98,  331.2 ,  336.42,  341.64,\n",
       "         346.86,  352.08,  357.3 ,  362.52,  367.74,  372.96,  378.18,\n",
       "         383.4 ,  388.62,  393.84,  399.06,  404.28,  409.5 ,  414.72,\n",
       "         419.94,  425.16,  430.38,  435.6 ,  440.82,  446.04,  451.26,\n",
       "         456.48,  461.7 ,  466.92,  472.14,  477.36,  482.58,  487.8 ,\n",
       "         493.02,  498.24,  503.46,  508.68,  513.9 ,  519.12,  524.34,\n",
       "         529.56,  534.78,  540.  ,  545.22,  550.44,  555.66,  560.88,\n",
       "         566.1 ,  571.32,  576.54,  581.76,  586.98,  592.2 ,  597.42,\n",
       "         602.64,  607.86,  613.08,  618.3 ,  623.52,  628.74,  633.96,\n",
       "         639.18,  644.4 ,  649.62,  654.84,  660.06,  665.28,  670.5 ,\n",
       "         675.72,  680.94,  686.16,  691.38,  696.6 ,  701.82,  707.04,\n",
       "         712.26,  717.48,  722.7 ,  727.92,  733.14,  738.36,  743.58,\n",
       "         748.8 ,  754.02,  759.24,  764.46,  769.68,  774.9 ,  780.12,\n",
       "         785.34,  790.56,  795.78,  801.  ,  806.22,  811.44,  816.66,\n",
       "         821.88,  827.1 ,  832.32,  837.54,  842.76,  847.98,  853.2 ,\n",
       "         858.42,  863.64,  868.86,  874.08,  879.3 ,  884.52,  889.74,\n",
       "         894.96,  900.18,  905.4 ,  910.62,  915.84,  921.06,  926.28,\n",
       "         931.5 ,  936.72,  941.94,  947.16,  952.38,  957.6 ,  962.82,\n",
       "         968.04,  973.26,  978.48,  983.7 ,  988.92,  994.14,  999.36,\n",
       "        1004.58, 1009.8 , 1015.02, 1020.24, 1025.46, 1030.68, 1035.9 ,\n",
       "        1041.12, 1046.34, 1051.56, 1056.78, 1062.  ]),\n",
       " <BarContainer object of 200 artists>)"
      ]
     },
     "execution_count": 84,
     "metadata": {},
     "output_type": "execute_result"
    },
    {
     "data": {
      "image/png": "[encoded data removed]",
      "text/plain": [
       "<Figure size 432x288 with 1 Axes>"
      ]
     },
     "metadata": {
      "needs_background": "light"
     },
     "output_type": "display_data"
    }
   ],
   "source": [
    "plt.title(\"Num of videos (y) vs. Num of frames in a video (x)\")\n",
    "#plt.yscale(\"log\")\n",
    "plt.hist(numf_concat, bins=200)"
   ]
  },
  {
   "cell_type": "code",
   "execution_count": 85,
   "metadata": {},
   "outputs": [
    {
     "name": "stdout",
     "output_type": "stream",
     "text": [
      "Mean: 93.50650310375407\n",
      "Median: 78.0\n",
      "Mode: 79\n"
     ]
    }
   ],
   "source": [
    "print(\"Mean: {}\".format(statistics.mean(numf_concat)))\n",
    "print(\"Median: {}\".format(statistics.median(numf_concat)))\n",
    "print(\"Mode: {}\".format(statistics.mode(numf_concat)))"
   ]
  },
  {
   "cell_type": "code",
   "execution_count": 87,
   "metadata": {},
   "outputs": [
    {
     "data": {
      "text/plain": [
       "<BarContainer object of 51 artists>"
      ]
     },
     "execution_count": 87,
     "metadata": {},
     "output_type": "execute_result"
    },
    {
     "data": {
      "image/png": "[encoded data removed]",
      "text/plain": [
       "<Figure size 432x288 with 1 Axes>"
      ]
     },
     "metadata": {
      "needs_background": "light"
     },
     "output_type": "display_data"
    }
   ],
   "source": [
    "plt.title(\"Classwise Num of frames\")\n",
    "#plt.yscale(\"log\")\n",
    "plt.bar([i + 1 for i in range(51)], numf_classwise)"
   ]
  },
  {
   "cell_type": "code",
   "execution_count": 88,
   "metadata": {},
   "outputs": [
    {
     "name": "stdout",
     "output_type": "stream",
     "text": [
      "Mean: 12405.196078431372\n",
      "Median: 9914\n"
     ]
    }
   ],
   "source": [
    "print(\"Mean: {}\".format(statistics.mean(numf_classwise)))\n",
    "print(\"Median: {}\".format(statistics.median(numf_classwise)))"
   ]
  },
  {
   "cell_type": "code",
   "execution_count": 89,
   "metadata": {},
   "outputs": [
    {
     "data": {
      "text/plain": [
       "<BarContainer object of 51 artists>"
      ]
     },
     "execution_count": 89,
     "metadata": {},
     "output_type": "execute_result"
    },
    {
     "data": {
      "image/png": "[encoded data removed]",
      "text/plain": [
       "<Figure size 432x288 with 1 Axes>"
      ]
     },
     "metadata": {
      "needs_background": "light"
     },
     "output_type": "display_data"
    }
   ],
   "source": [
    "plt.title(\"Classwise Num of videos (clips)\")\n",
    "#plt.yscale(\"log\")\n",
    "plt.bar([i + 1 for i in range(51)], numv_classwise)"
   ]
  },
  {
   "cell_type": "code",
   "execution_count": 90,
   "metadata": {},
   "outputs": [
    {
     "name": "stdout",
     "output_type": "stream",
     "text": [
      "Mean: 132.66666666666666\n",
      "Median: 116\n"
     ]
    }
   ],
   "source": [
    "print(\"Mean: {}\".format(statistics.mean(numv_classwise)))\n",
    "print(\"Median: {}\".format(statistics.median(numv_classwise)))"
   ]
  },
  {
   "cell_type": "code",
   "execution_count": 91,
   "metadata": {},
   "outputs": [
    {
     "data": {
      "text/plain": [
       "<BarContainer object of 51 artists>"
      ]
     },
     "execution_count": 91,
     "metadata": {},
     "output_type": "execute_result"
    },
    {
     "data": {
      "image/png": "[encoded data removed]",
      "text/plain": [
       "<Figure size 432x288 with 1 Axes>"
      ]
     },
     "metadata": {
      "needs_background": "light"
     },
     "output_type": "display_data"
    }
   ],
   "source": [
    "plt.title(\"Classwise Num of unique videos (groups)\")\n",
    "#plt.yscale(\"log\")\n",
    "plt.bar([i + 1 for i in range(51)], numuv_classwise)"
   ]
  },
  {
   "cell_type": "code",
   "execution_count": 92,
   "metadata": {},
   "outputs": [
    {
     "name": "stdout",
     "output_type": "stream",
     "text": [
      "Mean: 44.92156862745098\n",
      "Median: 40\n"
     ]
    }
   ],
   "source": [
    "print(\"Mean: {}\".format(statistics.mean(numuv_classwise)))\n",
    "print(\"Median: {}\".format(statistics.median(numuv_classwise)))"
   ]
  }
 ],
 "metadata": {
  "kernelspec": {
   "display_name": "Python 3",
   "language": "python",
   "name": "python3"
  },
  "language_info": {
   "codemirror_mode": {
    "name": "ipython",
    "version": 3
   },
   "file_extension": ".py",
   "mimetype": "text/x-python",
   "name": "python",
   "nbconvert_exporter": "python",
   "pygments_lexer": "ipython3",
   "version": "3.5.2"
  }
 },
 "nbformat": 4,
 "nbformat_minor": 2
}
